{
  "nbformat": 4,
  "nbformat_minor": 0,
  "metadata": {
    "colab": {
      "provenance": []
    },
    "kernelspec": {
      "name": "python3",
      "display_name": "Python 3"
    },
    "language_info": {
      "name": "python"
    }
  },
  "cells": [
    {
      "cell_type": "markdown",
      "source": [
        "**1. Introducción y carga de datos**"
      ],
      "metadata": {
        "id": "xYqIRJj_PPCj"
      }
    },
    {
      "cell_type": "code",
      "execution_count": null,
      "metadata": {
        "id": "iXbA3ZwZ97Al"
      },
      "outputs": [],
      "source": [
        "# Importamos librerías\n",
        "import pandas as pd\n",
        "from sklearn.model_selection import train_test_split\n",
        "from sklearn.tree import DecisionTreeClassifier\n",
        "from sklearn.metrics import accuracy_score"
      ]
    },
    {
      "cell_type": "code",
      "source": [
        "# Cargamos los datos\n",
        "# Cargar los datos descargados de Kaggle LINK: https://www.kaggle.com/datasets/pavansubhasht/ibm-hr-analytics-attrition-dataset\n",
        "df = pd.read_csv('WA_Fn-UseC_-HR-Employee-Attrition.csv')"
      ],
      "metadata": {
        "id": "f_Q8FuhxFcZx"
      },
      "execution_count": null,
      "outputs": []
    },
    {
      "cell_type": "markdown",
      "source": [
        "2. Entendimiento del negocio y datos (CRISP: Business & Data Understanding)"
      ],
      "metadata": {
        "id": "UGSRalSEPTxl"
      }
    },
    {
      "cell_type": "code",
      "source": [
        "# Paso 3: Revisar las columnas disponibles\n",
        "print(df.columns)\n",
        "\n",
        "# Paso 4: Ver resumen de los datos\n",
        "df.describe(include='all')"
      ],
      "metadata": {
        "id": "dg_2Tm3aPRzj"
      },
      "execution_count": null,
      "outputs": []
    },
    {
      "cell_type": "markdown",
      "source": [
        "**3. Preparación de datos (CRISP: Data Preparation)**"
      ],
      "metadata": {
        "id": "FbxTgHHYPaNj"
      }
    },
    {
      "cell_type": "code",
      "source": [
        "# Preprocesamiento\n",
        "df['Attrition'] = df['Attrition'].map({'Yes': 1, 'No': 0})\n",
        "df['OverTime'] = df['OverTime'].map({'Yes': 1, 'No': 0})"
      ],
      "metadata": {
        "id": "aLzS7RfRFynE"
      },
      "execution_count": null,
      "outputs": []
    },
    {
      "cell_type": "code",
      "source": [
        "# Selección de variables base\n",
        "features = ['Age', 'MonthlyIncome', 'DistanceFromHome', 'OverTime']\n",
        "df = df[features + ['Attrition']]"
      ],
      "metadata": {
        "id": "RzLUvupYHx9l"
      },
      "execution_count": null,
      "outputs": []
    },
    {
      "cell_type": "code",
      "source": [
        "# Verificar que ya no hay valores faltantes\n",
        "df.isnull().sum()"
      ],
      "metadata": {
        "id": "1nzmnXqyPgi7"
      },
      "execution_count": null,
      "outputs": []
    },
    {
      "cell_type": "markdown",
      "source": [
        "**4. Modelado (CRISP: Modeling)**"
      ],
      "metadata": {
        "id": "3bO30ylqQA_b"
      }
    },
    {
      "cell_type": "code",
      "source": [
        "X = df[features]\n",
        "y = df['Attrition']"
      ],
      "metadata": {
        "id": "vcp-NHrLQAwb"
      },
      "execution_count": null,
      "outputs": []
    },
    {
      "cell_type": "code",
      "source": [
        "# División\n",
        "X_train, X_test, y_train, y_test = train_test_split(X, y, test_size=0.2, random_state=42)"
      ],
      "metadata": {
        "id": "f17UgdamHzel"
      },
      "execution_count": null,
      "outputs": []
    },
    {
      "cell_type": "code",
      "source": [
        "# Modelo\n",
        "model = DecisionTreeClassifier(max_depth=3)\n",
        "model.fit(X_train, y_train)"
      ],
      "metadata": {
        "id": "iyAwwZ3HH1A8"
      },
      "execution_count": null,
      "outputs": []
    },
    {
      "cell_type": "code",
      "source": [
        "# Evaluación\n",
        "y_pred = model.predict(X_test)\n",
        "print(\"Precisión:\", accuracy_score(y_test, y_pred))"
      ],
      "metadata": {
        "id": "_NQrhghkH1x0"
      },
      "execution_count": null,
      "outputs": []
    },
    {
      "cell_type": "markdown",
      "source": [
        "# **Tu misión es completar los siguientes datos**"
      ],
      "metadata": {
        "id": "3XAtM6UoH-VK"
      }
    },
    {
      "cell_type": "code",
      "source": [
        "# COMPLETAR\n",
        "#Mostrar primeras 10 predicciones y comparar con valores reales\n"
      ],
      "metadata": {
        "id": "KFKb91gkH5VE"
      },
      "execution_count": null,
      "outputs": []
    },
    {
      "cell_type": "code",
      "source": [
        "# Graficar el árbol para observar variables y relaciones\n",
        "#PISTAS ==> Para que el título y las etiquetas se puedan entender usar lo siguiente en la línea pertinente\n",
        "\n",
        "\n",
        "# plot_tree(model, feature_names=features, class_names=[\"Va a abandonar\", \"No va a abandonar\"], filled=True)\n",
        "# plt.title(\"Árbol de Decisión para Rotación de personal en IBM\")\n"
      ],
      "metadata": {
        "id": "63Eow7qpIJjU"
      },
      "execution_count": null,
      "outputs": []
    },
    {
      "cell_type": "code",
      "source": [
        "# Ahora Probamos el modelo con una persona nueva\n",
        "# Por ejemplo: Edad: 25 años, Ingresos: US$2000, Distancia del hogar: 2000 millas, Horas extra: SI (1)\n",
        "nueva_persona = pd.DataFrame({'Age': [35], 'MonthlyIncome': [2000], 'DistanceFromHome': [2000], 'OverTime': [1] })\n",
        "prediccion = model.predict(nueva_persona)"
      ],
      "metadata": {
        "id": "j8Nq8p1LKjs0"
      },
      "execution_count": null,
      "outputs": []
    },
    {
      "cell_type": "code",
      "source": [
        "print(\"¿Esta persona se iriá de la empresa?\")\n",
        "if prediccion[0] == 0:\n",
        "     print(\"✅ ¡No Se va de la empresa! 😀\")\n",
        "else:\n",
        "    print(\"❌ Si, si piensa ir. 😢\")"
      ],
      "metadata": {
        "id": "QOhCSwWLLJeE"
      },
      "execution_count": null,
      "outputs": []
    }
  ]
}
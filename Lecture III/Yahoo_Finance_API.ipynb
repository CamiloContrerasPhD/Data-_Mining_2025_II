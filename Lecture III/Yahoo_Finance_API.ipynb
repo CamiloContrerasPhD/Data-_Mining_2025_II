{
  "nbformat": 4,
  "nbformat_minor": 0,
  "metadata": {
    "colab": {
      "provenance": []
    },
    "kernelspec": {
      "name": "python3",
      "display_name": "Python 3"
    },
    "language_info": {
      "name": "python"
    }
  },
  "cells": [
    {
      "cell_type": "code",
      "execution_count": null,
      "metadata": {
        "id": "yQOH1B1hP2_T"
      },
      "outputs": [],
      "source": [
        "# Propósito: Instalar y cargar librerías necesarias\n",
        "!pip -q install yfinance --upgrade"
      ]
    },
    {
      "cell_type": "code",
      "source": [
        "import yfinance as yf\n",
        "import pandas as pd\n",
        "import matplotlib.pyplot as plt"
      ],
      "metadata": {
        "id": "2mjsrF4KP7Fj"
      },
      "execution_count": null,
      "outputs": []
    },
    {
      "cell_type": "code",
      "source": [
        "# Propósito: Definir activos y descargar precios diarios\n",
        "tickers = [\"AAPL\", \"MSFT\", \"GOOGL\"]  # Cambia, agrega o quita tickers (histórico de precios para empresa)\n",
        "data = yf.download(tickers, period=\"6mo\", interval=\"1d\", auto_adjust=True, progress=False)\n",
        "\n",
        "# Nos quedamos con el cierre para análisis básico\n",
        "close = data[\"Close\"].copy()\n",
        "# Asegurar formato DataFrame aunque haya 1 ticker (Precio en la historia)\n",
        "if isinstance(close, pd.Series):\n",
        "    close = close.to_frame()\n",
        "\n",
        "# Ver el precio de cierre\n",
        "close.tail(10)"
      ],
      "metadata": {
        "id": "oWM_wPTpP_Gz"
      },
      "execution_count": null,
      "outputs": []
    },
    {
      "cell_type": "code",
      "source": [
        "# Resumen rápido de los datos descargados\n",
        "resumen = pd.DataFrame({\n",
        "    \"ultimo_cierre\": close.tail(1).T.iloc[:, 0],\n",
        "    \"fecha_ultimo\": [close.index.max()] * close.shape[1],\n",
        "    \"fecha_primero\": [close.index.min()] * close.shape[1],\n",
        "})\n",
        "\n",
        "# Vemos los datos\n",
        "resumen"
      ],
      "metadata": {
        "id": "0_UlPKjUQKJc"
      },
      "execution_count": null,
      "outputs": []
    },
    {
      "cell_type": "code",
      "source": [
        "# Calcular retornos diarios\n",
        "returns = close.pct_change()\n",
        "\n",
        "# Promedio diario para fines didácticos\n",
        "avg_daily_return_pct = (returns.mean() * 100).round(3)\n",
        "avg_daily_return_pct.to_frame(\"retorno_promedio_diario_%\")"
      ],
      "metadata": {
        "id": "5d-SwkmnQO6K"
      },
      "execution_count": null,
      "outputs": []
    },
    {
      "cell_type": "code",
      "source": [
        "# Propósito: Normalizar precios para comparar trayectorias\n",
        "norm = (close / close.iloc[0]) * 100\n",
        "\n",
        "plt.figure(figsize=(9, 5))\n",
        "norm.plot(ax=plt.gca())\n",
        "plt.title(\"Evolución comparada (precio normalizado = 100 al inicio)\")\n",
        "plt.xlabel(\"Fecha\")\n",
        "plt.ylabel(\"Índice (inicio=100)\")\n",
        "plt.grid(True, linestyle=\"--\", alpha=0.4)\n",
        "plt.tight_layout()\n",
        "plt.show()"
      ],
      "metadata": {
        "id": "s4Eh2WZKQRgU"
      },
      "execution_count": null,
      "outputs": []
    },
    {
      "cell_type": "code",
      "source": [
        "plt.figure(figsize=(7, 4))\n",
        "avg_daily_return_pct.plot(kind=\"bar\")\n",
        "plt.title(\"Retorno promedio diario (%) en el periodo\")\n",
        "plt.xlabel(\"Ticker\")\n",
        "plt.ylabel(\"%\")\n",
        "plt.grid(axis=\"y\", linestyle=\"--\", alpha=0.4)\n",
        "plt.tight_layout()\n",
        "plt.show()"
      ],
      "metadata": {
        "id": "3fAAWTQ8QYpD"
      },
      "execution_count": null,
      "outputs": []
    },
    {
      "cell_type": "code",
      "source": [
        "# --- Setup\n",
        "import requests, pandas as pd\n",
        "\n",
        "BASE = \"https://api-colombia.com/api/v1\"\n",
        "\n",
        "def get_json(path, params=None):\n",
        "    url = f\"{BASE}/{path.strip('/')}\"\n",
        "    r = requests.get(url, params=params, timeout=30)\n",
        "    r.raise_for_status()\n",
        "    return r.json()\n",
        "\n",
        "# --- 1) Inspección rápida de recursos (ver qué trae cada endpoint)\n",
        "country = get_json(\"country/Colombia\")              # dict\n",
        "departments = pd.DataFrame(get_json(\"Department\"))  # list -> DataFrame\n",
        "regions = pd.DataFrame(get_json(\"Region\"))\n",
        "airports = pd.DataFrame(get_json(\"Airport\"))        # si es muy grande, filtra en memoria\n",
        "\n",
        "print(\"Country keys:\", list(country.keys()))\n",
        "print(\"Departments columns:\", departments.columns.tolist()[:10])\n",
        "print(\"Regions columns:\", regions.columns.tolist())\n",
        "print(\"Airports columns:\", airports.columns.tolist()[:10])\n",
        "\n",
        "# --- 2) Búsqueda por nombre/keyword (útil para inputs de usuario)\n",
        "# City por palabra clave (ej.: \"Bogotá\", \"Medellín\", \"Cali\")\n",
        "cities_bogota = pd.DataFrame(get_json(\"city/search/Bogota\"))\n",
        "print(\"Ejemplo City search -> cols:\", cities_bogota.columns.tolist())\n",
        "\n",
        "# Department por nombre exacto (manejo de lista)\n",
        "antioquia = get_json(\"Department/name/Antioquia\")\n",
        "\n",
        "if isinstance(antioquia, list) and len(antioquia) > 0:\n",
        "    print(\"Total resultados:\", len(antioquia))\n",
        "    print(\"Keys del primer resultado:\", list(antioquia[0].keys()))\n",
        "    df_antioquia = pd.DataFrame(antioquia)\n",
        "    print(df_antioquia[[\"id\", \"name\", \"population\", \"surface\"]])\n",
        "else:\n",
        "    print(\"Sin resultados o formato inesperado\")\n",
        "\n",
        "# --- 3) Mini-análisis de negocio\n",
        "# 3.1) Top departamentos por número de aeropuertos (proxy logístico)\n",
        "if \"departmentId\" in airports.columns:\n",
        "    top_dept_airports = (airports\n",
        "                         .groupby(\"departmentId\")\n",
        "                         .size()\n",
        "                         .reset_index(name=\"num_airports\")\n",
        "                         .sort_values(\"num_airports\", ascending=False))\n",
        "    print(top_dept_airports.head(10))\n",
        "else:\n",
        "    # Si no existe departmentId, imprime 5 filas para inspeccionar y ajustar columnas\n",
        "    print(airports.head(5))\n",
        "\n",
        "# 3.2) Atractivos turísticos más frecuentes por ciudad/departamento\n",
        "# (revisar primero las columnas reales y ajustar los campos de agrupación)\n",
        "tourism = pd.DataFrame(get_json(\"TouristicAttraction\"))\n",
        "print(\"Tourism columns:\", tourism.columns.tolist())\n",
        "# ejemplo genérico: intenta contar por una columna obvia si existe, p.ej. 'cityId' o 'departmentId'\n",
        "group_cols = [c for c in [\"cityId\", \"departmentId\", \"name\"] if c in tourism.columns]\n",
        "if group_cols:\n",
        "    tourism_counts = (tourism.groupby(group_cols[:-1]).size()\n",
        "                             .reset_index(name=\"num_attractions\")\n",
        "                             .sort_values(\"num_attractions\", ascending=False))\n",
        "    print(tourism_counts.head(10))\n",
        "\n",
        "# --- 4) Visualización muy básica (bar chart simple)\n",
        "# Objetivo docente: que el estudiante vea un ranking sin distracciones\n",
        "# (si no tienes 'departmentId' en airports, cambia por cualquier columna válida)\n",
        "if \"departmentId\" in airports.columns:\n",
        "    top10 = top_dept_airports.head(10).set_index(\"departmentId\")\n",
        "    ax = top10[\"num_airports\"].plot(kind=\"bar\", title=\"Top 10 departamentos por número de aeropuertos\")\n",
        "    ax.set_xlabel(\"departmentId\"); ax.set_ylabel(\"N.º aeropuertos\")\n"
      ],
      "metadata": {
        "id": "sL7XIgN5RuZn"
      },
      "execution_count": null,
      "outputs": []
    }
  ]
}
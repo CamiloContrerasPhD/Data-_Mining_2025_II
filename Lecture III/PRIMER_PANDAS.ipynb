{
  "nbformat": 4,
  "nbformat_minor": 0,
  "metadata": {
    "colab": {
      "provenance": []
    },
    "kernelspec": {
      "name": "python3",
      "display_name": "Python 3"
    },
    "language_info": {
      "name": "python"
    }
  },
  "cells": [
    {
      "cell_type": "code",
      "execution_count": null,
      "metadata": {
        "id": "3XrtrzJsGLpH"
      },
      "outputs": [],
      "source": [
        "import pandas as pd"
      ]
    },
    {
      "cell_type": "code",
      "source": [
        "df = pd.read_csv(\"online_retail_II.csv\")"
      ],
      "metadata": {
        "id": "rz5WETG2GOrC"
      },
      "execution_count": null,
      "outputs": []
    },
    {
      "cell_type": "code",
      "source": [
        "print(df.head())                       # Ver primeras filas"
      ],
      "metadata": {
        "id": "7zyLiU4mGQYa"
      },
      "execution_count": null,
      "outputs": []
    },
    {
      "cell_type": "code",
      "source": [
        "df.head()"
      ],
      "metadata": {
        "id": "bT_0-EahGmQL"
      },
      "execution_count": null,
      "outputs": []
    },
    {
      "cell_type": "code",
      "source": [
        "df.info()"
      ],
      "metadata": {
        "id": "10PKkOgDKHAo"
      },
      "execution_count": null,
      "outputs": []
    },
    {
      "cell_type": "code",
      "source": [
        "df.describe()                   # Estadísticas"
      ],
      "metadata": {
        "id": "QFZ497x7GS9x"
      },
      "execution_count": null,
      "outputs": []
    },
    {
      "cell_type": "code",
      "source": [
        "grouped = df.groupby(\"Country\")"
      ],
      "metadata": {
        "id": "HNVlPmcrGUPJ"
      },
      "execution_count": null,
      "outputs": []
    },
    {
      "cell_type": "code",
      "source": [
        "grouped.describe()"
      ],
      "metadata": {
        "id": "xs8gY_vhOT5B"
      },
      "execution_count": null,
      "outputs": []
    },
    {
      "cell_type": "code",
      "source": [
        "mean_price = df.groupby(\"Country\")[\"Price\"].mean() # Promedio por País\n",
        "print(mean_price)"
      ],
      "metadata": {
        "id": "wfU1yoJdH-21"
      },
      "execution_count": null,
      "outputs": []
    }
  ]
}
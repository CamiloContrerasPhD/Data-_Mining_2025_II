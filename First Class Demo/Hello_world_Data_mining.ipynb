{
  "cells": [
    {
      "cell_type": "markdown",
      "id": "1f0fe421",
      "metadata": {
        "id": "1f0fe421"
      },
      "source": [
        "# 🚢 Hello World con Scikit-learn: Predicción de Supervivencia en el Titanic\n",
        "\n",
        "Este notebook es tu primera experiencia en modelamiento predictivo con **scikit-learn**. Usaremos un caso simple y famoso: predecir si una persona habría sobrevivido al Titanic, con base en variables como edad, clase y sexo.\n",
        "\n",
        "Este ejercicio sigue las fases básicas de **CRISP-DM**:\n",
        "- Comprensión del negocio\n",
        "- Comprensión de los datos\n",
        "- Preparación de los datos\n",
        "- Modelamiento\n",
        "- Evaluación\n",
        "\n",
        "¡Comencemos! 🎯\n"
      ]
    },
    {
      "cell_type": "markdown",
      "source": [
        "**1. Introducción y carga de datos**"
      ],
      "metadata": {
        "id": "pDO99-_CNVJb"
      },
      "id": "pDO99-_CNVJb"
    },
    {
      "cell_type": "code",
      "execution_count": null,
      "id": "46ce8858",
      "metadata": {
        "id": "46ce8858"
      },
      "outputs": [],
      "source": [
        "# Paso 1: Importar librerías necesarias\n",
        "import pandas as pd\n",
        "from sklearn.model_selection import train_test_split\n",
        "from sklearn.tree import DecisionTreeClassifier\n",
        "from sklearn.metrics import accuracy_score\n"
      ]
    },
    {
      "cell_type": "code",
      "execution_count": null,
      "id": "97481863",
      "metadata": {
        "id": "97481863"
      },
      "outputs": [],
      "source": [
        "# Paso 2: Cargar los datos desde internet\n",
        "url = \"https://raw.githubusercontent.com/datasciencedojo/datasets/master/titanic.csv\"\n",
        "df = pd.read_csv(url)"
      ]
    },
    {
      "cell_type": "markdown",
      "source": [
        "**2. Entendimiento del negocio y datos (CRISP: Business & Data Understanding)**"
      ],
      "metadata": {
        "id": "fAOpggkCPMMU"
      },
      "id": "fAOpggkCPMMU"
    },
    {
      "cell_type": "code",
      "source": [
        "# Paso 3: Revisar las columnas disponibles\n",
        "print(df.columns)\n",
        "\n",
        "# Paso 4: Ver resumen de los datos\n",
        "df.describe(include='all')"
      ],
      "metadata": {
        "id": "q47q1nVkNrBC"
      },
      "id": "q47q1nVkNrBC",
      "execution_count": null,
      "outputs": []
    },
    {
      "cell_type": "markdown",
      "source": [
        "**3. Preparación de datos (CRISP: Data Preparation)**"
      ],
      "metadata": {
        "id": "tXIc1ULsNknK"
      },
      "id": "tXIc1ULsNknK"
    },
    {
      "cell_type": "code",
      "execution_count": null,
      "id": "9513ec34",
      "metadata": {
        "id": "9513ec34"
      },
      "outputs": [],
      "source": [
        "# Paso 5: Elegir variables relevantes\n",
        "features = ['Pclass', 'Sex', 'Age']\n",
        "df = df[features + ['Survived']]\n",
        "\n",
        "# Paso 6: Limpiar datos: reemplazar \"Sex\" por números y manejar valores faltantes\n",
        "df['Sex'] = df['Sex'].map({'male': 0, 'female': 1})\n",
        "df['Age'] = df['Age'].fillna(df['Age'].median())\n",
        "\n",
        "# Verificar que ya no hay valores faltantes\n",
        "df.isnull().sum()"
      ]
    },
    {
      "cell_type": "markdown",
      "source": [
        "**4. Modelado (CRISP: Modeling)**"
      ],
      "metadata": {
        "id": "ToljfdLBOYWj"
      },
      "id": "ToljfdLBOYWj"
    },
    {
      "cell_type": "code",
      "source": [
        "# Paso 7: Separar variables X (predictoras) e y (objetivo)\n",
        "X = df[features]\n",
        "y = df['Survived']"
      ],
      "metadata": {
        "id": "73i30d1KOHt6"
      },
      "id": "73i30d1KOHt6",
      "execution_count": null,
      "outputs": []
    },
    {
      "cell_type": "code",
      "execution_count": null,
      "id": "f294e594",
      "metadata": {
        "id": "f294e594"
      },
      "outputs": [],
      "source": [
        "# Paso 8: Separar  datos para hacer entrenamiento y pruebas\n",
        "X_train, X_test, y_train, y_test = train_test_split(X, y, test_size=0.2, random_state=42)"
      ]
    },
    {
      "cell_type": "code",
      "execution_count": null,
      "id": "ebf25e7d",
      "metadata": {
        "id": "ebf25e7d"
      },
      "outputs": [],
      "source": [
        "# Paso 9: Crear el modelo\n",
        "model = DecisionTreeClassifier(max_depth=3)\n",
        "model.fit(X_train, y_train)"
      ]
    },
    {
      "cell_type": "markdown",
      "source": [
        "**5. Evaluación (CRISP: Evaluation)**"
      ],
      "metadata": {
        "id": "9orzlE4xOd6N"
      },
      "id": "9orzlE4xOd6N"
    },
    {
      "cell_type": "code",
      "execution_count": null,
      "id": "0dc88dbd",
      "metadata": {
        "id": "0dc88dbd"
      },
      "outputs": [],
      "source": [
        "# Paso 10: Evaluar el modelo con accuracy\n",
        "y_pred = model.predict(X_test)\n",
        "accuracy = accuracy_score(y_test, y_pred)\n",
        "\n",
        "print(f\"Precisión del modelo: {accuracy:.2f}\")"
      ]
    },
    {
      "cell_type": "code",
      "source": [
        "# Paso 11: Mostrar primeras 10 predicciones y comparar con valores reales\n",
        "resultados = X_test.copy()\n",
        "resultados['Real'] = y_test\n",
        "resultados['Predicho'] = y_pred\n",
        "resultados.head(10)"
      ],
      "metadata": {
        "id": "AZ4cz1gTPR41"
      },
      "id": "AZ4cz1gTPR41",
      "execution_count": null,
      "outputs": []
    },
    {
      "cell_type": "code",
      "source": [
        "# Paso 12: Graficar el árbol para observar variables y relaciones\n",
        "from sklearn.tree import plot_tree\n",
        "import matplotlib.pyplot as plt\n",
        "\n",
        "plt.figure(figsize=(12, 6))\n",
        "plot_tree(model, feature_names=features, class_names=[\"No sobrevive\", \"Sobrevive\"], filled=True)\n",
        "plt.title(\"Árbol de Decisión para Supervivencia en Titanic\")\n",
        "plt.show()"
      ],
      "metadata": {
        "id": "a1eyDZ5OPqgV"
      },
      "id": "a1eyDZ5OPqgV",
      "execution_count": null,
      "outputs": []
    },
    {
      "cell_type": "markdown",
      "source": [
        "**6. Despliegue básico (CRISP: Deployment)**"
      ],
      "metadata": {
        "id": "AuKnpoO0OihM"
      },
      "id": "AuKnpoO0OihM"
    },
    {
      "cell_type": "code",
      "source": [
        "# Paso 13:\n",
        "# Ahora Probamos el modelo con una persona nueva\n",
        "# Por ejemplo: tercera clase (Pclass=3), hombre (Sex=0), 25 años\n",
        "nueva_persona = pd.DataFrame({'Pclass': [3], 'Sex': [0], 'Age': [25]})\n",
        "prediccion = model.predict(nueva_persona)"
      ],
      "metadata": {
        "id": "RKy9r6uMS_LL"
      },
      "id": "RKy9r6uMS_LL",
      "execution_count": null,
      "outputs": []
    },
    {
      "cell_type": "code",
      "source": [
        "print(\"¿Sobreviviría la nueva persona?\")\n",
        "if prediccion[0] == 1:\n",
        "    print(\"✅ ¡Sí, sobreviviría! 😀\")\n",
        "else:\n",
        "    print(\"❌ No, no sobreviviría. 😢\")"
      ],
      "metadata": {
        "id": "HRQGir9KwOBa"
      },
      "id": "HRQGir9KwOBa",
      "execution_count": null,
      "outputs": []
    },
    {
      "cell_type": "markdown",
      "id": "e55a88cb",
      "metadata": {
        "id": "e55a88cb"
      },
      "source": [
        "## 🧠 Reflexión\n",
        "\n",
        "- ¿Qué variables parecen influir más en la supervivencia?\n",
        "- ¿Cómo podrías mejorar este modelo?\n",
        "- ¿Por qué es útil este tipo de modelo en la toma de decisiones?\n"
      ]
    }
  ],
  "metadata": {
    "colab": {
      "provenance": []
    },
    "language_info": {
      "name": "python"
    },
    "kernelspec": {
      "name": "python3",
      "display_name": "Python 3"
    }
  },
  "nbformat": 4,
  "nbformat_minor": 5
}
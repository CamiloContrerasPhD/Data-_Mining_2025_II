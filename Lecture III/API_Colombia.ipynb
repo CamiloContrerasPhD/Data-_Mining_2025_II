{
  "nbformat": 4,
  "nbformat_minor": 0,
  "metadata": {
    "colab": {
      "provenance": []
    },
    "kernelspec": {
      "name": "python3",
      "display_name": "Python 3"
    },
    "language_info": {
      "name": "python"
    }
  },
  "cells": [
    {
      "cell_type": "code",
      "source": [
        "# Cargar las librerías\n",
        "import requests\n",
        "import pandas as pd\n",
        "import matplotlib.pyplot as plt"
      ],
      "metadata": {
        "id": "0IH5BixxjlfY"
      },
      "execution_count": null,
      "outputs": []
    },
    {
      "cell_type": "code",
      "source": [
        "# Usamos una variable para indicar la URL\n",
        "BASE = \"https://api-colombia.com/api/v1\""
      ],
      "metadata": {
        "id": "Ir19O_mdjp1I"
      },
      "execution_count": null,
      "outputs": []
    },
    {
      "cell_type": "code",
      "source": [
        "# Llamamos los datos de la API\n",
        "def get_json(path):\n",
        "    r = requests.get(f\"{BASE}/{path}\", timeout=30)\n",
        "    r.raise_for_status()\n",
        "    return r.json()"
      ],
      "metadata": {
        "id": "pWfT6uKgjzMo"
      },
      "execution_count": null,
      "outputs": []
    },
    {
      "cell_type": "code",
      "source": [
        "# Extraemos Datos (dos veces) Datos base ---\n",
        "departments = pd.DataFrame(get_json(\"Department\"))\n",
        "airports = pd.DataFrame(get_json(\"Airport\"))"
      ],
      "metadata": {
        "id": "273YVQGnj74r"
      },
      "execution_count": null,
      "outputs": []
    },
    {
      "cell_type": "code",
      "source": [
        "departments"
      ],
      "metadata": {
        "id": "NIjyN5gemScd"
      },
      "execution_count": null,
      "outputs": []
    },
    {
      "cell_type": "code",
      "source": [
        "airports"
      ],
      "metadata": {
        "id": "Fa9NayrykLPl"
      },
      "execution_count": null,
      "outputs": []
    },
    {
      "cell_type": "code",
      "source": [
        "# --- 2) Limpiar nombres de columnas para unión ---\n",
        "# Ojo: en airports el departamento es \"deparmentId\" y en departments es \"id\"\n",
        "if \"deparmentId\" in airports.columns:\n",
        "    airports.rename(columns={\"deparmentId\": \"departmentId\"}, inplace=True)"
      ],
      "metadata": {
        "id": "aoMDbvdhkS1v"
      },
      "execution_count": null,
      "outputs": []
    },
    {
      "cell_type": "code",
      "source": [
        "# --- 3) Contar aeropuertos por departamento ---\n",
        "airports_count = airports.groupby(\"departmentId\").size().reset_index(name=\"num_airports\")"
      ],
      "metadata": {
        "id": "8acEuIM6kVZj"
      },
      "execution_count": null,
      "outputs": []
    },
    {
      "cell_type": "code",
      "source": [
        "airports_count"
      ],
      "metadata": {
        "id": "Dki5soijkXW3"
      },
      "execution_count": null,
      "outputs": []
    },
    {
      "cell_type": "code",
      "source": [
        "# --- 4) Unir con datos de departamentos ---\n",
        "df = departments.merge(airports_count, left_on=\"id\", right_on=\"departmentId\", how=\"left\")\n",
        "df[\"num_airports\"] = df[\"num_airports\"].fillna(0)"
      ],
      "metadata": {
        "id": "chR5SXf5mBHB"
      },
      "execution_count": null,
      "outputs": []
    },
    {
      "cell_type": "code",
      "source": [
        "df"
      ],
      "metadata": {
        "id": "CGwZCyx9mIPX"
      },
      "execution_count": null,
      "outputs": []
    },
    {
      "cell_type": "code",
      "source": [
        "# --- 5) Ranking simple: población y aeropuertos ---\n",
        "ranking = df[[\"name\", \"population\", \"num_airports\"]].sort_values(\n",
        "    [\"population\", \"num_airports\"], ascending=[False, False]\n",
        ")\n",
        "print(ranking.head(10))"
      ],
      "metadata": {
        "id": "BRCu7Q67mdyJ"
      },
      "execution_count": null,
      "outputs": []
    },
    {
      "cell_type": "code",
      "execution_count": null,
      "metadata": {
        "id": "pdlF5U-pWF75"
      },
      "outputs": [],
      "source": [
        "# --- 6) Visualización rápida ---\n",
        "ranking.head(10).set_index(\"name\")[[\"population\", \"num_airports\"]].plot(\n",
        "    kind=\"bar\", secondary_y=\"population\", figsize=(10,6),\n",
        "    title=\"Top 10 departamentos: mercado (población) y logística (aeropuertos)\"\n",
        ")\n",
        "plt.ylabel(\"Número de aeropuertos\")\n",
        "plt.show()"
      ]
    }
  ]
}